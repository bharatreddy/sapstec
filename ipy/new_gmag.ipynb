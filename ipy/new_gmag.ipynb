{
 "cells": [
  {
   "cell_type": "code",
   "execution_count": 1,
   "metadata": {},
   "outputs": [],
   "source": [
    "import pandas\n",
    "import datetime\n",
    "import urllib\n",
    "import bs4\n",
    "import os\n",
    "import numpy\n",
    "import matplotlib.pyplot as plt\n",
    "from matplotlib.colors import ListedColormap\n",
    "from matplotlib.colors import Normalize\n",
    "from matplotlib.ticker import FuncFormatter, MaxNLocator\n",
    "from matplotlib import ticker\n",
    "import seaborn as sns\n",
    "import scipy\n",
    "import feather\n",
    "%matplotlib inline"
   ]
  },
  {
   "cell_type": "code",
   "execution_count": 2,
   "metadata": {
    "collapsed": true
   },
   "outputs": [],
   "source": [
    "rel_perc_cutoff = 0.15"
   ]
  },
  {
   "cell_type": "code",
   "execution_count": 3,
   "metadata": {
    "collapsed": true
   },
   "outputs": [],
   "source": [
    "finBndDF = feather.read_dataframe('../data/trghBndDst-fits.feather')\n",
    "# There is 24 MLT and 0 MLT, remove the discrepancy\n",
    "finBndDF[\"mlt\"] = finBndDF[\"mlt\"]%24\n",
    "finBndDF = finBndDF.drop_duplicates()\n",
    "finBndDF[\"dst_bin\"] = finBndDF[\"dst_bin\"].astype(str)"
   ]
  },
  {
   "cell_type": "code",
   "execution_count": 4,
   "metadata": {},
   "outputs": [
    {
     "data": {
      "text/html": [
       "<div>\n",
       "<table border=\"1\" class=\"dataframe\">\n",
       "  <thead>\n",
       "    <tr style=\"text-align: right;\">\n",
       "      <th></th>\n",
       "      <th>dst_bin</th>\n",
       "      <th>normMLT</th>\n",
       "      <th>rel_perc</th>\n",
       "    </tr>\n",
       "  </thead>\n",
       "  <tbody>\n",
       "    <tr>\n",
       "      <th>0</th>\n",
       "      <td>(-10, 10]</td>\n",
       "      <td>-3.0</td>\n",
       "      <td>0.168704</td>\n",
       "    </tr>\n",
       "    <tr>\n",
       "      <th>1</th>\n",
       "      <td>(-10, 10]</td>\n",
       "      <td>-2.0</td>\n",
       "      <td>0.353223</td>\n",
       "    </tr>\n",
       "    <tr>\n",
       "      <th>2</th>\n",
       "      <td>(-10, 10]</td>\n",
       "      <td>-1.0</td>\n",
       "      <td>0.601528</td>\n",
       "    </tr>\n",
       "    <tr>\n",
       "      <th>3</th>\n",
       "      <td>(-10, 10]</td>\n",
       "      <td>0.0</td>\n",
       "      <td>0.818738</td>\n",
       "    </tr>\n",
       "    <tr>\n",
       "      <th>4</th>\n",
       "      <td>(-10, 10]</td>\n",
       "      <td>1.0</td>\n",
       "      <td>0.960532</td>\n",
       "    </tr>\n",
       "  </tbody>\n",
       "</table>\n",
       "</div>"
      ],
      "text/plain": [
       "     dst_bin  normMLT  rel_perc\n",
       "0  (-10, 10]     -3.0  0.168704\n",
       "1  (-10, 10]     -2.0  0.353223\n",
       "2  (-10, 10]     -1.0  0.601528\n",
       "3  (-10, 10]      0.0  0.818738\n",
       "4  (-10, 10]      1.0  0.960532"
      ]
     },
     "execution_count": 4,
     "metadata": {},
     "output_type": "execute_result"
    }
   ],
   "source": [
    "# Discard MLTs(for each dst_bin) where num observations are low\n",
    "cntNMltDstPnts = finBndDF.groupby([\"dst_bin\", \"normMLT\"]).size().reset_index()\n",
    "cntNMltDstPnts.columns = [\"dst_bin\", \"normMLT\", \"cnt\"]\n",
    "\n",
    "cntMaxPnts = cntNMltDstPnts[ [\"dst_bin\", \"cnt\"] ].groupby(\"dst_bin\").max().reset_index()\n",
    "cntMaxPnts.columns = [\"dst_bin\", \"max_cnt\"]\n",
    "\n",
    "cntNMltDstPnts = pandas.merge( cntNMltDstPnts, cntMaxPnts, on=[\"dst_bin\"] )\n",
    "cntNMltDstPnts[\"rel_perc\"] = cntNMltDstPnts[\"cnt\"]/cntNMltDstPnts[\"max_cnt\"]\n",
    "cntNMltDstPnts = cntNMltDstPnts[ cntNMltDstPnts[\"rel_perc\"] > rel_perc_cutoff ].reset_index(drop=True)\n",
    "cntNMltDstPnts = cntNMltDstPnts[ [ \"dst_bin\", \"normMLT\", \"rel_perc\" ] ]\n",
    "cntNMltDstPnts.head()"
   ]
  },
  {
   "cell_type": "code",
   "execution_count": 5,
   "metadata": {
    "collapsed": true
   },
   "outputs": [],
   "source": [
    "# discard trghMean locations where obse are low\n",
    "finBndDF = pandas.merge( finBndDF, cntNMltDstPnts, on=[\"dst_bin\", \"normMLT\"], how=\"inner\" )"
   ]
  },
  {
   "cell_type": "code",
   "execution_count": 6,
   "metadata": {},
   "outputs": [
    {
     "data": {
      "text/plain": [
       "array([[<matplotlib.axes._subplots.AxesSubplot object at 0x7f4452554250>]], dtype=object)"
      ]
     },
     "execution_count": 6,
     "metadata": {},
     "output_type": "execute_result"
    },
    {
     "data": {
      "image/png": "[encoded data removed]",
      "text/plain": [
       "<matplotlib.figure.Figure at 0x7f4498348fd0>"
      ]
     },
     "metadata": {},
     "output_type": "display_data"
    }
   ],
   "source": [
    "dstBins = range(-150,51)\n",
    "finBndDF.hist('dst_index', bins=dstBins)"
   ]
  },
  {
   "cell_type": "code",
   "execution_count": 7,
   "metadata": {},
   "outputs": [],
   "source": [
    "selCols = [ 'mlatEqu',    'tecEqu',      'mlon',   'mlatPol',    'tecPol',\\\n",
    "            'date',   'mlatMin',    'tecMin',       'mlt', 'mlonAdjst',\\\n",
    "         'normMLT', 'delTecEqu', 'delTecPol',   'delMlat',   'timeStr',\\\n",
    "         'dateStr',      'hour',  'dst_date', 'dst_index',\\\n",
    "        'rel_perc' ]\n",
    "finBndDF = finBndDF[selCols]"
   ]
  },
  {
   "cell_type": "code",
   "execution_count": 8,
   "metadata": {},
   "outputs": [],
   "source": [
    "dstBins = [ -150, -50, -25, -10, 10 ]\n",
    "finBndDF = pandas.concat( [ finBndDF, \\\n",
    "                    pandas.cut( finBndDF[\"dst_index\"], \\\n",
    "                               bins=dstBins ) ], axis=1 )\n",
    "finBndDF.columns = ['mlatEqu',    'tecEqu',      'mlon',   'mlatPol',    'tecPol',\\\n",
    "            'date',   'mlatMin',    'tecMin',       'mlt', 'mlonAdjst',\\\n",
    "         'normMLT', 'delTecEqu', 'delTecPol',   'delMlat',   'timeStr',\\\n",
    "         'dateStr',      'hour',  'dst_date', 'dst_index',\\\n",
    "        'rel_perc', 'dst_bin']\n",
    "finBndDF[\"dst_bin\"] = finBndDF[\"dst_bin\"].astype(str)"
   ]
  },
  {
   "cell_type": "code",
   "execution_count": 9,
   "metadata": {},
   "outputs": [
    {
     "data": {
      "text/plain": [
       "dst_bin\n",
       "(-10, 10]      89808\n",
       "(-150, -50]     6884\n",
       "(-25, -10]     66237\n",
       "(-50, -25]     36253\n",
       "nan             5725\n",
       "dtype: int64"
      ]
     },
     "execution_count": 9,
     "metadata": {},
     "output_type": "execute_result"
    }
   ],
   "source": [
    "finBndDF.groupby('dst_bin').size()"
   ]
  },
  {
   "cell_type": "code",
   "execution_count": 10,
   "metadata": {},
   "outputs": [
    {
     "data": {
      "text/html": [
       "<div>\n",
       "<table border=\"1\" class=\"dataframe\">\n",
       "  <thead>\n",
       "    <tr style=\"text-align: right;\">\n",
       "      <th></th>\n",
       "      <th>dst_bin</th>\n",
       "      <th>normMLT</th>\n",
       "      <th>mlt</th>\n",
       "      <th>mlatEqu_mean</th>\n",
       "      <th>tecEqu_mean</th>\n",
       "      <th>mlon_mean</th>\n",
       "      <th>mlatPol_mean</th>\n",
       "      <th>tecPol_mean</th>\n",
       "      <th>mlatMin_mean</th>\n",
       "      <th>tecMin_mean</th>\n",
       "      <th>...</th>\n",
       "      <th>tecPol_std</th>\n",
       "      <th>mlatMin_std</th>\n",
       "      <th>tecMin_std</th>\n",
       "      <th>mlonAdjst_std</th>\n",
       "      <th>delTecEqu_std</th>\n",
       "      <th>delTecPol_std</th>\n",
       "      <th>delMlat_std</th>\n",
       "      <th>timeStr_std</th>\n",
       "      <th>dst_index_std</th>\n",
       "      <th>rel_perc_std</th>\n",
       "    </tr>\n",
       "  </thead>\n",
       "  <tbody>\n",
       "    <tr>\n",
       "      <th>0</th>\n",
       "      <td>(-10, 10]</td>\n",
       "      <td>-3.0</td>\n",
       "      <td>21.0</td>\n",
       "      <td>53.054113</td>\n",
       "      <td>5.767901</td>\n",
       "      <td>286.672706</td>\n",
       "      <td>66.940324</td>\n",
       "      <td>5.618078</td>\n",
       "      <td>60.292703</td>\n",
       "      <td>3.676802</td>\n",
       "      <td>...</td>\n",
       "      <td>2.378100</td>\n",
       "      <td>2.575364</td>\n",
       "      <td>1.988274</td>\n",
       "      <td>24.636639</td>\n",
       "      <td>1.278013</td>\n",
       "      <td>1.195792</td>\n",
       "      <td>3.673999</td>\n",
       "      <td>164.622063</td>\n",
       "      <td>4.945651</td>\n",
       "      <td>0.0</td>\n",
       "    </tr>\n",
       "    <tr>\n",
       "      <th>1</th>\n",
       "      <td>(-10, 10]</td>\n",
       "      <td>-2.0</td>\n",
       "      <td>22.0</td>\n",
       "      <td>52.136483</td>\n",
       "      <td>5.883296</td>\n",
       "      <td>290.170805</td>\n",
       "      <td>66.592898</td>\n",
       "      <td>5.846426</td>\n",
       "      <td>59.654314</td>\n",
       "      <td>3.867457</td>\n",
       "      <td>...</td>\n",
       "      <td>2.393627</td>\n",
       "      <td>2.318366</td>\n",
       "      <td>2.055292</td>\n",
       "      <td>25.477006</td>\n",
       "      <td>1.209754</td>\n",
       "      <td>1.229347</td>\n",
       "      <td>3.279394</td>\n",
       "      <td>171.807591</td>\n",
       "      <td>4.919972</td>\n",
       "      <td>0.0</td>\n",
       "    </tr>\n",
       "    <tr>\n",
       "      <th>2</th>\n",
       "      <td>(-10, 10]</td>\n",
       "      <td>-1.0</td>\n",
       "      <td>23.0</td>\n",
       "      <td>51.473615</td>\n",
       "      <td>5.723219</td>\n",
       "      <td>294.368718</td>\n",
       "      <td>66.233173</td>\n",
       "      <td>5.737998</td>\n",
       "      <td>59.096285</td>\n",
       "      <td>3.700376</td>\n",
       "      <td>...</td>\n",
       "      <td>2.252076</td>\n",
       "      <td>2.177955</td>\n",
       "      <td>1.952053</td>\n",
       "      <td>26.703592</td>\n",
       "      <td>1.145823</td>\n",
       "      <td>1.209036</td>\n",
       "      <td>2.807351</td>\n",
       "      <td>181.237999</td>\n",
       "      <td>5.066290</td>\n",
       "      <td>0.0</td>\n",
       "    </tr>\n",
       "    <tr>\n",
       "      <th>3</th>\n",
       "      <td>(-10, 10]</td>\n",
       "      <td>0.0</td>\n",
       "      <td>0.0</td>\n",
       "      <td>50.996096</td>\n",
       "      <td>5.537713</td>\n",
       "      <td>297.961532</td>\n",
       "      <td>66.098343</td>\n",
       "      <td>5.475978</td>\n",
       "      <td>58.784787</td>\n",
       "      <td>3.356817</td>\n",
       "      <td>...</td>\n",
       "      <td>2.155382</td>\n",
       "      <td>2.080874</td>\n",
       "      <td>1.756130</td>\n",
       "      <td>26.175764</td>\n",
       "      <td>1.219754</td>\n",
       "      <td>1.269629</td>\n",
       "      <td>2.418479</td>\n",
       "      <td>177.784436</td>\n",
       "      <td>5.026143</td>\n",
       "      <td>0.0</td>\n",
       "    </tr>\n",
       "    <tr>\n",
       "      <th>4</th>\n",
       "      <td>(-10, 10]</td>\n",
       "      <td>1.0</td>\n",
       "      <td>1.0</td>\n",
       "      <td>50.754772</td>\n",
       "      <td>5.466132</td>\n",
       "      <td>298.494051</td>\n",
       "      <td>66.022368</td>\n",
       "      <td>5.359034</td>\n",
       "      <td>58.641968</td>\n",
       "      <td>3.131758</td>\n",
       "      <td>...</td>\n",
       "      <td>2.039238</td>\n",
       "      <td>2.115332</td>\n",
       "      <td>1.609357</td>\n",
       "      <td>25.429303</td>\n",
       "      <td>1.257380</td>\n",
       "      <td>1.259982</td>\n",
       "      <td>2.130538</td>\n",
       "      <td>172.384114</td>\n",
       "      <td>5.075928</td>\n",
       "      <td>0.0</td>\n",
       "    </tr>\n",
       "  </tbody>\n",
       "</table>\n",
       "<p>5 rows × 31 columns</p>\n",
       "</div>"
      ],
      "text/plain": [
       "     dst_bin  normMLT   mlt  mlatEqu_mean  tecEqu_mean   mlon_mean  \\\n",
       "0  (-10, 10]     -3.0  21.0     53.054113     5.767901  286.672706   \n",
       "1  (-10, 10]     -2.0  22.0     52.136483     5.883296  290.170805   \n",
       "2  (-10, 10]     -1.0  23.0     51.473615     5.723219  294.368718   \n",
       "3  (-10, 10]      0.0   0.0     50.996096     5.537713  297.961532   \n",
       "4  (-10, 10]      1.0   1.0     50.754772     5.466132  298.494051   \n",
       "\n",
       "   mlatPol_mean  tecPol_mean  mlatMin_mean  tecMin_mean      ...       \\\n",
       "0     66.940324     5.618078     60.292703     3.676802      ...        \n",
       "1     66.592898     5.846426     59.654314     3.867457      ...        \n",
       "2     66.233173     5.737998     59.096285     3.700376      ...        \n",
       "3     66.098343     5.475978     58.784787     3.356817      ...        \n",
       "4     66.022368     5.359034     58.641968     3.131758      ...        \n",
       "\n",
       "   tecPol_std  mlatMin_std  tecMin_std  mlonAdjst_std  delTecEqu_std  \\\n",
       "0    2.378100     2.575364    1.988274      24.636639       1.278013   \n",
       "1    2.393627     2.318366    2.055292      25.477006       1.209754   \n",
       "2    2.252076     2.177955    1.952053      26.703592       1.145823   \n",
       "3    2.155382     2.080874    1.756130      26.175764       1.219754   \n",
       "4    2.039238     2.115332    1.609357      25.429303       1.257380   \n",
       "\n",
       "   delTecPol_std  delMlat_std  timeStr_std  dst_index_std  rel_perc_std  \n",
       "0       1.195792     3.673999   164.622063       4.945651           0.0  \n",
       "1       1.229347     3.279394   171.807591       4.919972           0.0  \n",
       "2       1.209036     2.807351   181.237999       5.066290           0.0  \n",
       "3       1.269629     2.418479   177.784436       5.026143           0.0  \n",
       "4       1.259982     2.130538   172.384114       5.075928           0.0  \n",
       "\n",
       "[5 rows x 31 columns]"
      ]
     },
     "execution_count": 10,
     "metadata": {},
     "output_type": "execute_result"
    }
   ],
   "source": [
    "trghMeanDF = finBndDF.groupby( [\"dst_bin\", \"normMLT\", \"mlt\"] ).mean().reset_index()\n",
    "trghMeanDF.columns = ['dst_bin', 'normMLT', 'mlt', 'mlatEqu_mean', 'tecEqu_mean', 'mlon_mean',\n",
    "       'mlatPol_mean', 'tecPol_mean', 'mlatMin_mean', 'tecMin_mean', 'mlonAdjst_mean',\n",
    "       'delTecEqu_mean', 'delTecPol_mean', 'delMlat_mean', 'timeStr_mean', 'dst_index_mean', 'rel_perc_mean']\n",
    "trghStdDF = finBndDF.groupby( [\"dst_bin\", \"normMLT\", \"mlt\"] ).std().reset_index()\n",
    "trghStdDF.columns = ['dst_bin', 'normMLT', 'mlt', 'mlatEqu_std', 'tecEqu_std', 'mlon_std',\n",
    "       'mlatPol_std', 'tecPol_std', 'mlatMin_std', 'tecMin_std', 'mlonAdjst_std',\n",
    "       'delTecEqu_std', 'delTecPol_std', 'delMlat_std', 'timeStr_std', 'dst_index_std', 'rel_perc_std']\n",
    "trghMeanDF = pandas.merge( trghMeanDF, trghStdDF, on=[\"dst_bin\", \"normMLT\", \"mlt\"] )\n",
    "trghMeanDF = trghMeanDF.dropna().reset_index(drop=True)\n",
    "trghMeanDF.head()"
   ]
  },
  {
   "cell_type": "code",
   "execution_count": 11,
   "metadata": {
    "collapsed": true
   },
   "outputs": [],
   "source": [
    "def format_mlt_normMLT_ticks(tick_val, tick_pos):\n",
    "    if tick_val < 0:\n",
    "        return str(tick_val + 24)\n",
    "    else:\n",
    "        return str(tick_val)"
   ]
  },
  {
   "cell_type": "code",
   "execution_count": 12,
   "metadata": {},
   "outputs": [
    {
     "data": {
      "image/png": "[encoded data removed]",
      "text/plain": [
       "<matplotlib.figure.Figure at 0x7f44569e2a10>"
      ]
     },
     "metadata": {},
     "output_type": "display_data"
    }
   ],
   "source": [
    "bins = range(-8,8,1)\n",
    "colDict = {}\n",
    "colDict['(-10, 10]'] = 'dodgerblue'\n",
    "colDict['(-25, -10]'] = 'slateblue'\n",
    "colDict['(-50, -25]'] = 'seagreen'\n",
    "colDict['(-150, -50]'] = 'firebrick'\n",
    "\n",
    "sns.set_style(\"whitegrid\")\n",
    "sns.set_context(\"poster\")\n",
    "\n",
    "f = plt.figure(figsize=(12, 8))\n",
    "axArr = []\n",
    "axArr.append( f.add_subplot(2,2,1) )\n",
    "axArr.append( f.add_subplot(2,2,2) )\n",
    "axArr.append( f.add_subplot(2,2,3) )\n",
    "axArr.append( f.add_subplot(2,2,4) )\n",
    "\n",
    "\n",
    "dstBinArrSorted = ['(-10, 10]', '(-25, -10]', '(-50, -25]', '(-150, -50]']\n",
    "for binInd, currDstBin in enumerate(dstBinArrSorted):\n",
    "    selDF = finBndDF[ finBndDF[\"dst_bin\"] == currDstBin]\n",
    "#     sns.distplot(selDF[\"normMLT\"].values, bins=bins, kde=False,\\\n",
    "#                  hist=True, fit=scipy.stats.gennorm,\\\n",
    "#                  fit_kws={\"color\": colDict[currDstBin]},\\\n",
    "#                  hist_kws={\"color\": colDict[currDstBin]}, ax=axArr[binInd])\n",
    "    sns.distplot(selDF[\"normMLT\"].values, bins=bins, kde=False,\\\n",
    "                 hist=True,norm_hist=True,\\\n",
    "                 fit_kws={\"color\": colDict[currDstBin]},\\\n",
    "                 hist_kws={\"color\": colDict[currDstBin]}, ax=axArr[binInd])\n",
    "#     break\n",
    "    axArr[binInd].set_xlabel(\"MLT\", fontsize=14)\n",
    "    axArr[binInd].set_ylabel(\"Probability\", fontsize=14)\n",
    "    axArr[binInd].set_xticks( range(-6,7,2) )\n",
    "    axArr[binInd].set_ylim([0,0.2])\n",
    "    axArr[binInd].set_yticks( numpy.arange(0,0.2,0.05) )\n",
    "    axArr[binInd].xaxis.set_major_formatter(FuncFormatter(format_mlt_normMLT_ticks)) \n",
    "    axArr[binInd].text(0.02, 0.9,  \"Dst = \" + currDstBin,\n",
    "            transform=axArr[binInd].transAxes,\n",
    "            color=colDict[currDstBin], fontsize=12)\n",
    "# plt.savefig(\"../figs/allBinsHist.pdf\",bbox_inches='tight')"
   ]
  },
  {
   "cell_type": "code",
   "execution_count": 13,
   "metadata": {},
   "outputs": [
    {
     "data": {
      "text/plain": [
       "<Container object of 3 artists>"
      ]
     },
     "execution_count": 13,
     "metadata": {},
     "output_type": "execute_result"
    },
    {
     "data": {
      "image/png": "[encoded data removed]",
      "text/plain": [
       "<matplotlib.figure.Figure at 0x7f444f83b310>"
      ]
     },
     "metadata": {},
     "output_type": "display_data"
    }
   ],
   "source": [
    "# Make a comparison plot of the data\n",
    "# for prob of occ at diff locs\n",
    "# Set up the matplotlib figure\n",
    "sns.set_style(\"whitegrid\")\n",
    "sns.set_context(\"poster\")\n",
    "\n",
    "f = plt.figure(figsize=(12, 8))\n",
    "ax1 = f.add_subplot(1,1,1)\n",
    "\n",
    "ax1.scatter(trghMeanDF['normMLT'][trghMeanDF['dst_bin'] == \"(-10, 10]\"],\n",
    "            trghMeanDF['delTecPol_mean'][trghMeanDF['dst_bin'] == \"(-10, 10]\"],\n",
    "            marker='o',\n",
    "            color=colDict[\"(-10, 10]\"],\n",
    "            alpha=0.7,\n",
    "            s = 124,\n",
    "            label='(-10, 10]')\n",
    "ax1.errorbar(trghMeanDF['normMLT'][trghMeanDF['dst_bin'] == \"(-10, 10]\"],\\\n",
    "             trghMeanDF['delTecPol_mean'][trghMeanDF['dst_bin'] == \"(-10, 10]\"],\\\n",
    "             yerr=trghMeanDF['delTecPol_std'][trghMeanDF['dst_bin'] == \"(-10, 10]\"], \\\n",
    "             color=colDict[\"(-10, 10]\"], label='', capthick=2., capsize=5., fmt='o')\n",
    "\n",
    "ax1.scatter(trghMeanDF['normMLT'][trghMeanDF['dst_bin'] == \"(-25, -10]\"],\n",
    "            trghMeanDF['delTecPol_mean'][trghMeanDF['dst_bin'] == \"(-25, -10]\"],\n",
    "            marker='o',\n",
    "            color=colDict[\"(-25, -10]\"],\n",
    "            alpha=0.7,\n",
    "            s = 124,\n",
    "            label='(-25, -10]')\n",
    "ax1.errorbar(trghMeanDF['normMLT'][trghMeanDF['dst_bin'] == \"(-25, -10]\"],\\\n",
    "             trghMeanDF['delTecPol_mean'][trghMeanDF['dst_bin'] == \"(-25, -10]\"],\\\n",
    "             yerr=trghMeanDF['delTecPol_std'][trghMeanDF['dst_bin'] == \"(-25, -10]\"], \\\n",
    "             color=colDict[\"(-25, -10]\"], label='', capthick=2., capsize=5., fmt='o')\n",
    "\n",
    "ax1.scatter(trghMeanDF['normMLT'][trghMeanDF['dst_bin'] == \"(-50, -25]\"],\n",
    "            trghMeanDF['delTecPol_mean'][trghMeanDF['dst_bin'] == \"(-50, -25]\"],\n",
    "            marker='o',\n",
    "            color=colDict[\"(-50, -25]\"],\n",
    "            alpha=0.7,\n",
    "            s = 124,\n",
    "            label='(-50, -25]')\n",
    "ax1.errorbar(trghMeanDF['normMLT'][trghMeanDF['dst_bin'] == \"(-50, -25]\"],\\\n",
    "             trghMeanDF['delTecPol_mean'][trghMeanDF['dst_bin'] == \"(-50, -25]\"],\\\n",
    "             yerr=trghMeanDF['delTecPol_std'][trghMeanDF['dst_bin'] == \"(-50, -25]\"], \\\n",
    "             color=colDict[\"(-50, -25]\"], label='', capthick=2., capsize=5., fmt='o')\n",
    "\n",
    "\n",
    "ax1.scatter(trghMeanDF['normMLT'][trghMeanDF['dst_bin'] == \"(-150, -50]\"],\n",
    "            trghMeanDF['delTecPol_mean'][trghMeanDF['dst_bin'] == \"(-150, -50]\"],\n",
    "            marker='o',\n",
    "            color=colDict[\"(-150, -50]\"],\n",
    "            alpha=0.7,\n",
    "            s = 124,\n",
    "            label='(-150, -50]')\n",
    "ax1.errorbar(trghMeanDF['normMLT'][trghMeanDF['dst_bin'] == \"(-150, -50]\"],\\\n",
    "             trghMeanDF['delTecPol_mean'][trghMeanDF['dst_bin'] == \"(-150, -50]\"],\\\n",
    "             yerr=trghMeanDF['delTecPol_std'][trghMeanDF['dst_bin'] == \"(-150, -50]\"], \\\n",
    "             color=colDict[\"(-150, -50]\"], label='', capthick=2., capsize=5., fmt='o')\n"
   ]
  },
  {
   "cell_type": "code",
   "execution_count": 14,
   "metadata": {},
   "outputs": [
    {
     "data": {
      "text/plain": [
       "<Container object of 3 artists>"
      ]
     },
     "execution_count": 14,
     "metadata": {},
     "output_type": "execute_result"
    },
    {
     "data": {
      "image/png": "[encoded data removed]",
      "text/plain": [
       "<matplotlib.figure.Figure at 0x7f444f890810>"
      ]
     },
     "metadata": {},
     "output_type": "display_data"
    }
   ],
   "source": [
    "# Make a comparison plot of the data\n",
    "# for prob of occ at diff locs\n",
    "# Set up the matplotlib figure\n",
    "sns.set_style(\"whitegrid\")\n",
    "sns.set_context(\"poster\")\n",
    "\n",
    "f = plt.figure(figsize=(12, 8))\n",
    "ax1 = f.add_subplot(1,1,1)\n",
    "\n",
    "ax1.scatter(trghMeanDF['normMLT'][trghMeanDF['dst_bin'] == \"(-10, 10]\"],\n",
    "            trghMeanDF['delTecEqu_mean'][trghMeanDF['dst_bin'] == \"(-10, 10]\"],\n",
    "            marker='o',\n",
    "            color=colDict[\"(-10, 10]\"],\n",
    "            alpha=0.7,\n",
    "            s = 124,\n",
    "            label='(-10, 10]')\n",
    "ax1.errorbar(trghMeanDF['normMLT'][trghMeanDF['dst_bin'] == \"(-10, 10]\"],\\\n",
    "             trghMeanDF['delTecEqu_mean'][trghMeanDF['dst_bin'] == \"(-10, 10]\"],\\\n",
    "             yerr=trghMeanDF['delTecEqu_std'][trghMeanDF['dst_bin'] == \"(-10, 10]\"], \\\n",
    "             color=colDict[\"(-10, 10]\"], label='', capthick=2., capsize=5., fmt='o')\n",
    "\n",
    "ax1.scatter(trghMeanDF['normMLT'][trghMeanDF['dst_bin'] == \"(-25, -10]\"],\n",
    "            trghMeanDF['delTecEqu_mean'][trghMeanDF['dst_bin'] == \"(-25, -10]\"],\n",
    "            marker='o',\n",
    "            color=colDict[\"(-25, -10]\"],\n",
    "            alpha=0.7,\n",
    "            s = 124,\n",
    "            label='(-25, -10]')\n",
    "ax1.errorbar(trghMeanDF['normMLT'][trghMeanDF['dst_bin'] == \"(-25, -10]\"],\\\n",
    "             trghMeanDF['delTecEqu_mean'][trghMeanDF['dst_bin'] == \"(-25, -10]\"],\\\n",
    "             yerr=trghMeanDF['delTecEqu_std'][trghMeanDF['dst_bin'] == \"(-25, -10]\"], \\\n",
    "             color=colDict[\"(-25, -10]\"], label='', capthick=2., capsize=5., fmt='o')\n",
    "\n",
    "ax1.scatter(trghMeanDF['normMLT'][trghMeanDF['dst_bin'] == \"(-50, -25]\"],\n",
    "            trghMeanDF['delTecEqu_mean'][trghMeanDF['dst_bin'] == \"(-50, -25]\"],\n",
    "            marker='o',\n",
    "            color=colDict[\"(-50, -25]\"],\n",
    "            alpha=0.7,\n",
    "            s = 124,\n",
    "            label='(-50, -25]')\n",
    "ax1.errorbar(trghMeanDF['normMLT'][trghMeanDF['dst_bin'] == \"(-50, -25]\"],\\\n",
    "             trghMeanDF['delTecEqu_mean'][trghMeanDF['dst_bin'] == \"(-50, -25]\"],\\\n",
    "             yerr=trghMeanDF['delTecEqu_std'][trghMeanDF['dst_bin'] == \"(-50, -25]\"], \\\n",
    "             color=colDict[\"(-50, -25]\"], label='', capthick=2., capsize=5., fmt='o')\n",
    "\n",
    "\n",
    "ax1.scatter(trghMeanDF['normMLT'][trghMeanDF['dst_bin'] == \"(-150, -50]\"],\n",
    "            trghMeanDF['delTecEqu_mean'][trghMeanDF['dst_bin'] == \"(-150, -50]\"],\n",
    "            marker='o',\n",
    "            color=colDict[\"(-150, -50]\"],\n",
    "            alpha=0.7,\n",
    "            s = 124,\n",
    "            label='(-150, -50]')\n",
    "ax1.errorbar(trghMeanDF['normMLT'][trghMeanDF['dst_bin'] == \"(-150, -50]\"],\\\n",
    "             trghMeanDF['delTecEqu_mean'][trghMeanDF['dst_bin'] == \"(-150, -50]\"],\\\n",
    "             yerr=trghMeanDF['delTecEqu_std'][trghMeanDF['dst_bin'] == \"(-150, -50]\"], \\\n",
    "             color=colDict[\"(-150, -50]\"], label='', capthick=2., capsize=5., fmt='o')\n"
   ]
  },
  {
   "cell_type": "code",
   "execution_count": 15,
   "metadata": {},
   "outputs": [
    {
     "data": {
      "text/plain": [
       "<Container object of 3 artists>"
      ]
     },
     "execution_count": 15,
     "metadata": {},
     "output_type": "execute_result"
    },
    {
     "data": {
      "image/png": "[encoded data removed]",
      "text/plain": [
       "<matplotlib.figure.Figure at 0x7f444f8909d0>"
      ]
     },
     "metadata": {},
     "output_type": "display_data"
    }
   ],
   "source": [
    "# Make a comparison plot of the data\n",
    "# for prob of occ at diff locs\n",
    "# Set up the matplotlib figure\n",
    "sns.set_style(\"whitegrid\")\n",
    "sns.set_context(\"poster\")\n",
    "\n",
    "f = plt.figure(figsize=(12, 8))\n",
    "ax1 = f.add_subplot(1,1,1)\n",
    "\n",
    "ax1.scatter(trghMeanDF['normMLT'][trghMeanDF['dst_bin'] == \"(-10, 10]\"],\n",
    "            trghMeanDF['tecMin_mean'][trghMeanDF['dst_bin'] == \"(-10, 10]\"],\n",
    "            marker='o',\n",
    "            color=colDict[\"(-10, 10]\"],\n",
    "            alpha=0.7,\n",
    "            s = 124,\n",
    "            label='(-10, 10]')\n",
    "ax1.errorbar(trghMeanDF['normMLT'][trghMeanDF['dst_bin'] == \"(-10, 10]\"],\\\n",
    "             trghMeanDF['tecMin_mean'][trghMeanDF['dst_bin'] == \"(-10, 10]\"],\\\n",
    "             yerr=trghMeanDF['tecMin_std'][trghMeanDF['dst_bin'] == \"(-10, 10]\"], \\\n",
    "             color=colDict[\"(-10, 10]\"], label='', capthick=2., capsize=5., fmt='o')\n",
    "\n",
    "ax1.scatter(trghMeanDF['normMLT'][trghMeanDF['dst_bin'] == \"(-25, -10]\"],\n",
    "            trghMeanDF['tecMin_mean'][trghMeanDF['dst_bin'] == \"(-25, -10]\"],\n",
    "            marker='o',\n",
    "            color=colDict[\"(-25, -10]\"],\n",
    "            alpha=0.7,\n",
    "            s = 124,\n",
    "            label='(-25, -10]')\n",
    "ax1.errorbar(trghMeanDF['normMLT'][trghMeanDF['dst_bin'] == \"(-25, -10]\"],\\\n",
    "             trghMeanDF['tecMin_mean'][trghMeanDF['dst_bin'] == \"(-25, -10]\"],\\\n",
    "             yerr=trghMeanDF['tecMin_std'][trghMeanDF['dst_bin'] == \"(-25, -10]\"], \\\n",
    "             color=colDict[\"(-25, -10]\"], label='', capthick=2., capsize=5., fmt='o')\n",
    "\n",
    "ax1.scatter(trghMeanDF['normMLT'][trghMeanDF['dst_bin'] == \"(-50, -25]\"],\n",
    "            trghMeanDF['tecMin_mean'][trghMeanDF['dst_bin'] == \"(-50, -25]\"],\n",
    "            marker='o',\n",
    "            color=colDict[\"(-50, -25]\"],\n",
    "            alpha=0.7,\n",
    "            s = 124,\n",
    "            label='(-50, -25]')\n",
    "ax1.errorbar(trghMeanDF['normMLT'][trghMeanDF['dst_bin'] == \"(-50, -25]\"],\\\n",
    "             trghMeanDF['tecMin_mean'][trghMeanDF['dst_bin'] == \"(-50, -25]\"],\\\n",
    "             yerr=trghMeanDF['tecMin_std'][trghMeanDF['dst_bin'] == \"(-50, -25]\"], \\\n",
    "             color=colDict[\"(-50, -25]\"], label='', capthick=2., capsize=5., fmt='o')\n",
    "\n",
    "\n",
    "ax1.scatter(trghMeanDF['normMLT'][trghMeanDF['dst_bin'] == \"(-150, -50]\"],\n",
    "            trghMeanDF['tecMin_mean'][trghMeanDF['dst_bin'] == \"(-150, -50]\"],\n",
    "            marker='o',\n",
    "            color=colDict[\"(-150, -50]\"],\n",
    "            alpha=0.7,\n",
    "            s = 124,\n",
    "            label='(-150, -50]')\n",
    "ax1.errorbar(trghMeanDF['normMLT'][trghMeanDF['dst_bin'] == \"(-150, -50]\"],\\\n",
    "             trghMeanDF['tecMin_mean'][trghMeanDF['dst_bin'] == \"(-150, -50]\"],\\\n",
    "             yerr=trghMeanDF['tecMin_std'][trghMeanDF['dst_bin'] == \"(-150, -50]\"], \\\n",
    "             color=colDict[\"(-150, -50]\"], label='', capthick=2., capsize=5., fmt='o')\n"
   ]
  },
  {
   "cell_type": "code",
   "execution_count": null,
   "metadata": {
    "collapsed": true
   },
   "outputs": [],
   "source": []
  }
 ],
 "metadata": {
  "kernelspec": {
   "display_name": "Python 2",
   "language": "python",
   "name": "python2"
  },
  "language_info": {
   "codemirror_mode": {
    "name": "ipython",
    "version": 2
   },
   "file_extension": ".py",
   "mimetype": "text/x-python",
   "name": "python",
   "nbconvert_exporter": "python",
   "pygments_lexer": "ipython2",
   "version": "2.7.6"
  }
 },
 "nbformat": 4,
 "nbformat_minor": 1
}
